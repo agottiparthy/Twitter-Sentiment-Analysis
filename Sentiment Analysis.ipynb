{
 "cells": [
  {
   "cell_type": "code",
   "execution_count": 96,
   "metadata": {},
   "outputs": [],
   "source": [
    "import tweepy\n",
    "import time\n",
    "import threading\n",
    "import matplotlib.pyplot as plt\n",
    "from textblob import TextBlob"
   ]
  },
  {
   "cell_type": "code",
   "execution_count": 97,
   "metadata": {},
   "outputs": [
    {
     "name": "stdout",
     "output_type": "stream",
     "text": [
      "API Set\n"
     ]
    }
   ],
   "source": [
    "consumer_key = \"EpHfm5aHtLKncFCvlwM1UE9oR\"\n",
    "consumer_secret = \"J9DQH8JKn3lTWOKD0Wq5vuDi0GVapcVbcGpdBMKZLuZ9bg9lJy\"\n",
    "access_token = \"1045732419968454656-X9awIZWJjETNH4q8TvpRrxiJjiMCwq\"\n",
    "access_token_secret = \"uKrDSSVBdfkbSRHT5X9O50Io35hQ6tS9MOsBPovXXn6Mv\"\n",
    "\n",
    "auth = tweepy.OAuthHandler(consumer_key, consumer_secret)\n",
    "auth.set_access_token = (access_token, access_token_secret)\n",
    "try:\n",
    "    api = tweepy.API(auth)\n",
    "    print('API Set')\n",
    "except:\n",
    "    print(\"Error: Authentication Failure\")"
   ]
  },
  {
   "cell_type": "code",
   "execution_count": 98,
   "metadata": {},
   "outputs": [],
   "source": [
    "def summary(text):\n",
    "    public_tweets = api.search(text)\n",
    "    pol = []\n",
    "    subj = []\n",
    "    for tweet in public_tweets:\n",
    "        #print(tweet.text)\n",
    "        pol.append(TextBlob(tweet.text).sentiment.polarity)\n",
    "        subj.append(TextBlob(tweet.text).sentiment.subjectivity)\n",
    "    avPol = sum(pol) / len(pol)  \n",
    "    avSubj = sum(subj) / len(subj)\n",
    "    return avPol, avSubj\n",
    "    "
   ]
  },
  {
   "cell_type": "code",
   "execution_count": 99,
   "metadata": {},
   "outputs": [],
   "source": [
    "def clean_tweet(self, tweet):\n",
    "        return ' '.join(re.sub(\"(@[A-Za-z0-9]+)|([^0-9A-Za-z \\t])|(\\w+:\\/\\/\\S+)\", \" \", tweet).split())"
   ]
  },
  {
   "cell_type": "code",
   "execution_count": 100,
   "metadata": {},
   "outputs": [],
   "source": [
    "def repeatedQuery(query, length):\n",
    "    if length <= 30:\n",
    "        num = length // 5\n",
    "        sleep = 5\n",
    "    else:\n",
    "        num = length // 10\n",
    "        sleep = 10\n",
    "    count = 0\n",
    "    resultsPol = []\n",
    "    resultsSubj = []\n",
    "    while count < num:\n",
    "        x,y = summary(query)\n",
    "        resultsPol.append(x)\n",
    "        resultsSubj.append(y)\n",
    "        count += 1\n",
    "        time.sleep(sleep)\n",
    "    display(resultsPol, num, query, sleep)\n",
    "    return 'Avg polarity' + str(sum(resultsPol) / len(resultsPol))"
   ]
  },
  {
   "cell_type": "code",
   "execution_count": 101,
   "metadata": {},
   "outputs": [],
   "source": [
    "def display(polarity, num, query, sleep):\n",
    "    x = []\n",
    "    t = 0\n",
    "    while len(x) < num:\n",
    "        x.append(t)\n",
    "        t += sleep\n",
    "    plt.plot(x, polarity)\n",
    "    plt.xlabel('Time')\n",
    "    plt.ylabel('Polarity')\n",
    "    plt.title('Sentiment Analysis of ' + query)\n",
    "    plt.show()\n",
    "        "
   ]
  },
  {
   "cell_type": "code",
   "execution_count": 102,
   "metadata": {},
   "outputs": [
    {
     "name": "stdout",
     "output_type": "stream",
     "text": [
      "QueryTrump\n"
     ]
    }
   ],
   "source": [
    "query = input('Query')"
   ]
  },
  {
   "cell_type": "code",
   "execution_count": 103,
   "metadata": {},
   "outputs": [
    {
     "name": "stdout",
     "output_type": "stream",
     "text": [
      "Seconds30\n"
     ]
    }
   ],
   "source": [
    "length = int(input('Seconds'))"
   ]
  },
  {
   "cell_type": "code",
   "execution_count": 104,
   "metadata": {},
   "outputs": [
    {
     "data": {
      "image/png": "[encoded data removed]",
      "text/plain": [
       "<Figure size 432x288 with 1 Axes>"
      ]
     },
     "metadata": {},
     "output_type": "display_data"
    },
    {
     "data": {
      "text/plain": [
       "'Avg polarity-0.021115940203241795'"
      ]
     },
     "execution_count": 104,
     "metadata": {},
     "output_type": "execute_result"
    }
   ],
   "source": [
    "repeatedQuery(query, length)"
   ]
  },
  {
   "cell_type": "code",
   "execution_count": null,
   "metadata": {},
   "outputs": [],
   "source": [
    "        "
   ]
  },
  {
   "cell_type": "code",
   "execution_count": null,
   "metadata": {},
   "outputs": [],
   "source": []
  }
 ],
 "metadata": {
  "kernelspec": {
   "display_name": "Python 3",
   "language": "python",
   "name": "python3"
  },
  "language_info": {
   "codemirror_mode": {
    "name": "ipython",
    "version": 3
   },
   "file_extension": ".py",
   "mimetype": "text/x-python",
   "name": "python",
   "nbconvert_exporter": "python",
   "pygments_lexer": "ipython3",
   "version": "3.6.6"
  }
 },
 "nbformat": 4,
 "nbformat_minor": 2
}
